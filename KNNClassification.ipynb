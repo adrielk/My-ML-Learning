{
 "cells": [
  {
   "cell_type": "code",
   "execution_count": 1,
   "metadata": {},
   "outputs": [],
   "source": [
    "import itertools\n",
    "import numpy as np\n",
    "import matplotlib.pyplot as plt\n",
    "from matplotlib.ticker import NullFormatter #hmm\n",
    "import pandas as pd\n",
    "import numpy as np\n",
    "import matplotlib.ticker as ticker\n",
    "from sklearn import preprocessing\n",
    "%matplotlib inline"
   ]
  },
  {
   "cell_type": "code",
   "execution_count": 4,
   "metadata": {},
   "outputs": [
    {
     "data": {
      "text/html": [
       "<div>\n",
       "<style scoped>\n",
       "    .dataframe tbody tr th:only-of-type {\n",
       "        vertical-align: middle;\n",
       "    }\n",
       "\n",
       "    .dataframe tbody tr th {\n",
       "        vertical-align: top;\n",
       "    }\n",
       "\n",
       "    .dataframe thead th {\n",
       "        text-align: right;\n",
       "    }\n",
       "</style>\n",
       "<table border=\"1\" class=\"dataframe\">\n",
       "  <thead>\n",
       "    <tr style=\"text-align: right;\">\n",
       "      <th></th>\n",
       "      <th>region</th>\n",
       "      <th>tenure</th>\n",
       "      <th>age</th>\n",
       "      <th>marital</th>\n",
       "      <th>address</th>\n",
       "      <th>income</th>\n",
       "      <th>ed</th>\n",
       "      <th>employ</th>\n",
       "      <th>retire</th>\n",
       "      <th>gender</th>\n",
       "      <th>reside</th>\n",
       "      <th>custcat</th>\n",
       "    </tr>\n",
       "  </thead>\n",
       "  <tbody>\n",
       "    <tr>\n",
       "      <th>0</th>\n",
       "      <td>2</td>\n",
       "      <td>13</td>\n",
       "      <td>44</td>\n",
       "      <td>1</td>\n",
       "      <td>9</td>\n",
       "      <td>64.0</td>\n",
       "      <td>4</td>\n",
       "      <td>5</td>\n",
       "      <td>0.0</td>\n",
       "      <td>0</td>\n",
       "      <td>2</td>\n",
       "      <td>1</td>\n",
       "    </tr>\n",
       "    <tr>\n",
       "      <th>1</th>\n",
       "      <td>3</td>\n",
       "      <td>11</td>\n",
       "      <td>33</td>\n",
       "      <td>1</td>\n",
       "      <td>7</td>\n",
       "      <td>136.0</td>\n",
       "      <td>5</td>\n",
       "      <td>5</td>\n",
       "      <td>0.0</td>\n",
       "      <td>0</td>\n",
       "      <td>6</td>\n",
       "      <td>4</td>\n",
       "    </tr>\n",
       "    <tr>\n",
       "      <th>2</th>\n",
       "      <td>3</td>\n",
       "      <td>68</td>\n",
       "      <td>52</td>\n",
       "      <td>1</td>\n",
       "      <td>24</td>\n",
       "      <td>116.0</td>\n",
       "      <td>1</td>\n",
       "      <td>29</td>\n",
       "      <td>0.0</td>\n",
       "      <td>1</td>\n",
       "      <td>2</td>\n",
       "      <td>3</td>\n",
       "    </tr>\n",
       "    <tr>\n",
       "      <th>3</th>\n",
       "      <td>2</td>\n",
       "      <td>33</td>\n",
       "      <td>33</td>\n",
       "      <td>0</td>\n",
       "      <td>12</td>\n",
       "      <td>33.0</td>\n",
       "      <td>2</td>\n",
       "      <td>0</td>\n",
       "      <td>0.0</td>\n",
       "      <td>1</td>\n",
       "      <td>1</td>\n",
       "      <td>1</td>\n",
       "    </tr>\n",
       "    <tr>\n",
       "      <th>4</th>\n",
       "      <td>2</td>\n",
       "      <td>23</td>\n",
       "      <td>30</td>\n",
       "      <td>1</td>\n",
       "      <td>9</td>\n",
       "      <td>30.0</td>\n",
       "      <td>1</td>\n",
       "      <td>2</td>\n",
       "      <td>0.0</td>\n",
       "      <td>0</td>\n",
       "      <td>4</td>\n",
       "      <td>3</td>\n",
       "    </tr>\n",
       "  </tbody>\n",
       "</table>\n",
       "</div>"
      ],
      "text/plain": [
       "   region  tenure  age  marital  address  income  ed  employ  retire  gender  \\\n",
       "0       2      13   44        1        9    64.0   4       5     0.0       0   \n",
       "1       3      11   33        1        7   136.0   5       5     0.0       0   \n",
       "2       3      68   52        1       24   116.0   1      29     0.0       1   \n",
       "3       2      33   33        0       12    33.0   2       0     0.0       1   \n",
       "4       2      23   30        1        9    30.0   1       2     0.0       0   \n",
       "\n",
       "   reside  custcat  \n",
       "0       2        1  \n",
       "1       6        4  \n",
       "2       2        3  \n",
       "3       1        1  \n",
       "4       4        3  "
      ]
     },
     "execution_count": 4,
     "metadata": {},
     "output_type": "execute_result"
    }
   ],
   "source": [
    "df = pd.read_csv('teleCust1000t.csv')\n",
    "df.head()"
   ]
  },
  {
   "cell_type": "code",
   "execution_count": 5,
   "metadata": {},
   "outputs": [
    {
     "data": {
      "text/plain": [
       "3    281\n",
       "1    266\n",
       "4    236\n",
       "2    217\n",
       "Name: custcat, dtype: int64"
      ]
     },
     "execution_count": 5,
     "metadata": {},
     "output_type": "execute_result"
    }
   ],
   "source": [
    "df['custcat'].value_counts() #like a frequency table"
   ]
  },
  {
   "cell_type": "code",
   "execution_count": 15,
   "metadata": {},
   "outputs": [
    {
     "data": {
      "text/plain": [
       "array([[<matplotlib.axes._subplots.AxesSubplot object at 0x0000023BE9963128>]],\n",
       "      dtype=object)"
      ]
     },
     "execution_count": 15,
     "metadata": {},
     "output_type": "execute_result"
    },
    {
     "data": {
      "image/png": "[encoded data removed]",
      "text/plain": [
       "<Figure size 432x288 with 1 Axes>"
      ]
     },
     "metadata": {
      "needs_background": "light"
     },
     "output_type": "display_data"
    },
    {
     "data": {
      "image/png": "[encoded data removed]",
      "text/plain": [
       "<Figure size 432x288 with 1 Axes>"
      ]
     },
     "metadata": {
      "needs_background": "light"
     },
     "output_type": "display_data"
    }
   ],
   "source": [
    "df.hist(column = 'income', bins = 50)\n",
    "df.hist(column = 'age', bins = 20)"
   ]
  },
  {
   "cell_type": "code",
   "execution_count": 20,
   "metadata": {},
   "outputs": [
    {
     "name": "stdout",
     "output_type": "stream",
     "text": [
      "3    344\n",
      "2    334\n",
      "1    322\n",
      "Name: region, dtype: int64\n",
      "72    31\n",
      "3     20\n",
      "24    20\n",
      "48    20\n",
      "13    19\n",
      "22    19\n",
      "20    19\n",
      "16    19\n",
      "5     19\n",
      "4     19\n",
      "42    18\n",
      "33    18\n",
      "60    18\n",
      "7     18\n",
      "10    18\n",
      "45    18\n",
      "19    17\n",
      "50    17\n",
      "17    17\n",
      "38    17\n",
      "71    17\n",
      "65    17\n",
      "61    16\n",
      "67    16\n",
      "25    15\n",
      "26    15\n",
      "28    15\n",
      "6     15\n",
      "9     15\n",
      "23    14\n",
      "      ..\n",
      "53    13\n",
      "52    13\n",
      "35    13\n",
      "39    12\n",
      "59    12\n",
      "11    12\n",
      "55    12\n",
      "49    12\n",
      "70    11\n",
      "64    11\n",
      "62    11\n",
      "12    11\n",
      "31    11\n",
      "30    11\n",
      "44    11\n",
      "41    11\n",
      "51    10\n",
      "46    10\n",
      "58    10\n",
      "57     9\n",
      "68     9\n",
      "43     8\n",
      "40     8\n",
      "66     8\n",
      "27     8\n",
      "47     7\n",
      "2      7\n",
      "36     7\n",
      "21     6\n",
      "63     6\n",
      "Name: tenure, Length: 72, dtype: int64\n",
      "33    39\n",
      "39    35\n",
      "35    34\n",
      "34    32\n",
      "31    32\n",
      "37    31\n",
      "40    28\n",
      "42    28\n",
      "30    26\n",
      "52    25\n",
      "36    25\n",
      "45    24\n",
      "46    24\n",
      "27    24\n",
      "43    24\n",
      "48    24\n",
      "54    24\n",
      "41    24\n",
      "50    23\n",
      "25    23\n",
      "51    23\n",
      "28    22\n",
      "38    21\n",
      "32    21\n",
      "26    21\n",
      "47    21\n",
      "55    21\n",
      "24    20\n",
      "57    20\n",
      "44    20\n",
      "29    19\n",
      "53    19\n",
      "49    18\n",
      "23    16\n",
      "22    15\n",
      "59    14\n",
      "63    12\n",
      "56    11\n",
      "60    11\n",
      "61    11\n",
      "20    10\n",
      "64    10\n",
      "58    10\n",
      "62     9\n",
      "21     8\n",
      "66     7\n",
      "68     6\n",
      "69     6\n",
      "65     6\n",
      "67     5\n",
      "19     4\n",
      "76     3\n",
      "70     3\n",
      "75     2\n",
      "77     1\n",
      "71     1\n",
      "72     1\n",
      "73     1\n",
      "74     1\n",
      "18     1\n",
      "Name: age, dtype: int64\n",
      "0    505\n",
      "1    495\n",
      "Name: marital, dtype: int64\n",
      "1     68\n",
      "2     66\n",
      "3     61\n",
      "4     61\n",
      "0     56\n",
      "7     53\n",
      "5     50\n",
      "9     41\n",
      "8     39\n",
      "10    38\n",
      "6     36\n",
      "12    36\n",
      "13    33\n",
      "19    29\n",
      "15    24\n",
      "14    24\n",
      "11    23\n",
      "17    22\n",
      "18    20\n",
      "20    20\n",
      "21    20\n",
      "27    16\n",
      "23    15\n",
      "22    15\n",
      "16    14\n",
      "24    12\n",
      "26    12\n",
      "28    12\n",
      "25    12\n",
      "30    11\n",
      "29     8\n",
      "31     6\n",
      "34     6\n",
      "32     5\n",
      "33     5\n",
      "38     5\n",
      "37     3\n",
      "39     3\n",
      "43     3\n",
      "40     3\n",
      "44     3\n",
      "36     2\n",
      "35     2\n",
      "48     1\n",
      "46     1\n",
      "45     1\n",
      "49     1\n",
      "42     1\n",
      "41     1\n",
      "55     1\n",
      "Name: address, dtype: int64\n",
      "25.0      24\n",
      "26.0      22\n",
      "41.0      22\n",
      "33.0      20\n",
      "46.0      19\n",
      "31.0      18\n",
      "21.0      18\n",
      "22.0      18\n",
      "37.0      17\n",
      "28.0      17\n",
      "34.0      17\n",
      "23.0      16\n",
      "24.0      16\n",
      "27.0      16\n",
      "30.0      16\n",
      "39.0      16\n",
      "51.0      15\n",
      "18.0      15\n",
      "36.0      15\n",
      "38.0      15\n",
      "19.0      15\n",
      "20.0      14\n",
      "29.0      13\n",
      "17.0      13\n",
      "48.0      12\n",
      "59.0      11\n",
      "45.0      11\n",
      "53.0      11\n",
      "47.0      11\n",
      "35.0      11\n",
      "          ..\n",
      "92.0       1\n",
      "187.0      1\n",
      "460.0      1\n",
      "191.0      1\n",
      "167.0      1\n",
      "145.0      1\n",
      "195.0      1\n",
      "131.0      1\n",
      "242.0      1\n",
      "173.0      1\n",
      "333.0      1\n",
      "161.0      1\n",
      "169.0      1\n",
      "95.0       1\n",
      "114.0      1\n",
      "224.0      1\n",
      "1668.0     1\n",
      "122.0      1\n",
      "293.0      1\n",
      "250.0      1\n",
      "200.0      1\n",
      "438.0      1\n",
      "269.0      1\n",
      "137.0      1\n",
      "170.0      1\n",
      "214.0      1\n",
      "508.0      1\n",
      "130.0      1\n",
      "928.0      1\n",
      "591.0      1\n",
      "Name: income, Length: 218, dtype: int64\n",
      "2    287\n",
      "4    234\n",
      "3    209\n",
      "1    204\n",
      "5     66\n",
      "Name: ed, dtype: int64\n",
      "0     106\n",
      "1      66\n",
      "2      59\n",
      "5      54\n",
      "4      52\n",
      "3      50\n",
      "7      48\n",
      "6      44\n",
      "9      39\n",
      "8      38\n",
      "11     34\n",
      "12     32\n",
      "10     30\n",
      "15     30\n",
      "13     28\n",
      "21     22\n",
      "18     20\n",
      "20     20\n",
      "22     20\n",
      "19     19\n",
      "25     17\n",
      "16     17\n",
      "17     16\n",
      "24     14\n",
      "23     14\n",
      "14     13\n",
      "27     10\n",
      "31      9\n",
      "35      9\n",
      "29      9\n",
      "26      8\n",
      "30      8\n",
      "33      7\n",
      "28      5\n",
      "37      5\n",
      "34      4\n",
      "36      4\n",
      "32      3\n",
      "39      3\n",
      "40      3\n",
      "43      3\n",
      "45      2\n",
      "41      2\n",
      "44      2\n",
      "38      1\n",
      "47      1\n",
      "Name: employ, dtype: int64\n",
      "0.0    953\n",
      "1.0     47\n",
      "Name: retire, dtype: int64\n",
      "1    517\n",
      "0    483\n",
      "Name: gender, dtype: int64\n",
      "1    375\n",
      "2    272\n",
      "3    138\n",
      "4    120\n",
      "5     60\n",
      "6     29\n",
      "7      4\n",
      "8      2\n",
      "Name: reside, dtype: int64\n",
      "3    281\n",
      "1    266\n",
      "4    236\n",
      "2    217\n",
      "Name: custcat, dtype: int64\n"
     ]
    }
   ],
   "source": [
    "for col in df:\n",
    "    arr = df[col].value_counts()\n",
    "    print(arr)"
   ]
  },
  {
   "cell_type": "code",
   "execution_count": 21,
   "metadata": {},
   "outputs": [
    {
     "data": {
      "text/plain": [
       "Index(['region', 'tenure', 'age', 'marital', 'address', 'income', 'ed',\n",
       "       'employ', 'retire', 'gender', 'reside', 'custcat'],\n",
       "      dtype='object')"
      ]
     },
     "execution_count": 21,
     "metadata": {},
     "output_type": "execute_result"
    }
   ],
   "source": [
    "df.columns"
   ]
  },
  {
   "cell_type": "code",
   "execution_count": 25,
   "metadata": {},
   "outputs": [
    {
     "data": {
      "text/html": [
       "<div>\n",
       "<style scoped>\n",
       "    .dataframe tbody tr th:only-of-type {\n",
       "        vertical-align: middle;\n",
       "    }\n",
       "\n",
       "    .dataframe tbody tr th {\n",
       "        vertical-align: top;\n",
       "    }\n",
       "\n",
       "    .dataframe thead th {\n",
       "        text-align: right;\n",
       "    }\n",
       "</style>\n",
       "<table border=\"1\" class=\"dataframe\">\n",
       "  <thead>\n",
       "    <tr style=\"text-align: right;\">\n",
       "      <th></th>\n",
       "      <th>region</th>\n",
       "      <th>tenure</th>\n",
       "      <th>age</th>\n",
       "      <th>marital</th>\n",
       "      <th>address</th>\n",
       "      <th>income</th>\n",
       "      <th>ed</th>\n",
       "      <th>employ</th>\n",
       "      <th>retire</th>\n",
       "      <th>gender</th>\n",
       "      <th>reside</th>\n",
       "      <th>custcat</th>\n",
       "    </tr>\n",
       "  </thead>\n",
       "  <tbody>\n",
       "    <tr>\n",
       "      <th>0</th>\n",
       "      <td>2</td>\n",
       "      <td>13</td>\n",
       "      <td>44</td>\n",
       "      <td>1</td>\n",
       "      <td>9</td>\n",
       "      <td>64.0</td>\n",
       "      <td>4</td>\n",
       "      <td>5</td>\n",
       "      <td>0.0</td>\n",
       "      <td>0</td>\n",
       "      <td>2</td>\n",
       "      <td>1</td>\n",
       "    </tr>\n",
       "    <tr>\n",
       "      <th>1</th>\n",
       "      <td>3</td>\n",
       "      <td>11</td>\n",
       "      <td>33</td>\n",
       "      <td>1</td>\n",
       "      <td>7</td>\n",
       "      <td>136.0</td>\n",
       "      <td>5</td>\n",
       "      <td>5</td>\n",
       "      <td>0.0</td>\n",
       "      <td>0</td>\n",
       "      <td>6</td>\n",
       "      <td>4</td>\n",
       "    </tr>\n",
       "    <tr>\n",
       "      <th>2</th>\n",
       "      <td>3</td>\n",
       "      <td>68</td>\n",
       "      <td>52</td>\n",
       "      <td>1</td>\n",
       "      <td>24</td>\n",
       "      <td>116.0</td>\n",
       "      <td>1</td>\n",
       "      <td>29</td>\n",
       "      <td>0.0</td>\n",
       "      <td>1</td>\n",
       "      <td>2</td>\n",
       "      <td>3</td>\n",
       "    </tr>\n",
       "    <tr>\n",
       "      <th>3</th>\n",
       "      <td>2</td>\n",
       "      <td>33</td>\n",
       "      <td>33</td>\n",
       "      <td>0</td>\n",
       "      <td>12</td>\n",
       "      <td>33.0</td>\n",
       "      <td>2</td>\n",
       "      <td>0</td>\n",
       "      <td>0.0</td>\n",
       "      <td>1</td>\n",
       "      <td>1</td>\n",
       "      <td>1</td>\n",
       "    </tr>\n",
       "    <tr>\n",
       "      <th>4</th>\n",
       "      <td>2</td>\n",
       "      <td>23</td>\n",
       "      <td>30</td>\n",
       "      <td>1</td>\n",
       "      <td>9</td>\n",
       "      <td>30.0</td>\n",
       "      <td>1</td>\n",
       "      <td>2</td>\n",
       "      <td>0.0</td>\n",
       "      <td>0</td>\n",
       "      <td>4</td>\n",
       "      <td>3</td>\n",
       "    </tr>\n",
       "  </tbody>\n",
       "</table>\n",
       "</div>"
      ],
      "text/plain": [
       "   region  tenure  age  marital  address  income  ed  employ  retire  gender  \\\n",
       "0       2      13   44        1        9    64.0   4       5     0.0       0   \n",
       "1       3      11   33        1        7   136.0   5       5     0.0       0   \n",
       "2       3      68   52        1       24   116.0   1      29     0.0       1   \n",
       "3       2      33   33        0       12    33.0   2       0     0.0       1   \n",
       "4       2      23   30        1        9    30.0   1       2     0.0       0   \n",
       "\n",
       "   reside  custcat  \n",
       "0       2        1  \n",
       "1       6        4  \n",
       "2       2        3  \n",
       "3       1        1  \n",
       "4       4        3  "
      ]
     },
     "execution_count": 25,
     "metadata": {},
     "output_type": "execute_result"
    }
   ],
   "source": [
    "X = df[['region', 'tenure','age', 'marital', 'address', 'income', 'ed', \n",
    "        'employ','retire', 'gender', 'reside']] .values  #.astype(float)\n",
    "#above converts pandas dataframe to numpy array. necesary to use scikitlearn\n",
    "#remember that those double brackets are needed for getting multiple columns\n",
    "#each column can be thought of as its own \"list\"\n",
    "X[0:5]\n",
    "df.head()\n"
   ]
  },
  {
   "cell_type": "code",
   "execution_count": 32,
   "metadata": {},
   "outputs": [
    {
     "data": {
      "text/plain": [
       "array([[  2.,  13.,  44.,   1.,   9.,  64.,   4.,   5.,   0.,   0.,   2.],\n",
       "       [  3.,  11.,  33.,   1.,   7., 136.,   5.,   5.,   0.,   0.,   6.],\n",
       "       [  3.,  68.,  52.,   1.,  24., 116.,   1.,  29.,   0.,   1.,   2.],\n",
       "       [  2.,  33.,  33.,   0.,  12.,  33.,   2.,   0.,   0.,   1.,   1.],\n",
       "       [  2.,  23.,  30.,   1.,   9.,  30.,   1.,   2.,   0.,   0.,   4.]])"
      ]
     },
     "execution_count": 32,
     "metadata": {},
     "output_type": "execute_result"
    }
   ],
   "source": [
    "X[0:5]#these are just the first 5 rows"
   ]
  },
  {
   "cell_type": "code",
   "execution_count": 41,
   "metadata": {},
   "outputs": [
    {
     "data": {
      "text/plain": [
       "array([1, 4, 3, 1, 3], dtype=int64)"
      ]
     },
     "execution_count": 41,
     "metadata": {},
     "output_type": "execute_result"
    }
   ],
   "source": [
    "y = df['custcat'].values\n",
    "y[0:5]"
   ]
  },
  {
   "cell_type": "code",
   "execution_count": 44,
   "metadata": {},
   "outputs": [
    {
     "data": {
      "text/plain": [
       "array([[-0.02696767, -1.055125  ,  0.18450456,  1.0100505 , -0.25303431,\n",
       "        -0.12650641,  1.0877526 , -0.5941226 , -0.22207644, -1.03459817,\n",
       "        -0.23065004],\n",
       "       [ 1.19883553, -1.14880563, -0.69181243,  1.0100505 , -0.4514148 ,\n",
       "         0.54644972,  1.9062271 , -0.5941226 , -0.22207644, -1.03459817,\n",
       "         2.55666158],\n",
       "       [ 1.19883553,  1.52109247,  0.82182601,  1.0100505 ,  1.23481934,\n",
       "         0.35951747, -1.36767088,  1.78752803, -0.22207644,  0.96655883,\n",
       "        -0.23065004],\n",
       "       [-0.02696767, -0.11831864, -0.69181243, -0.9900495 ,  0.04453642,\n",
       "        -0.41625141, -0.54919639, -1.09029981, -0.22207644,  0.96655883,\n",
       "        -0.92747794],\n",
       "       [-0.02696767, -0.58672182, -0.93080797,  1.0100505 , -0.25303431,\n",
       "        -0.44429125, -1.36767088, -0.89182893, -0.22207644, -1.03459817,\n",
       "         1.16300577]])"
      ]
     },
     "execution_count": 44,
     "metadata": {},
     "output_type": "execute_result"
    }
   ],
   "source": [
    "#Normalize the data\n",
    "#Data standardization give data zero mean and unit cveraince, good practice for algos like KNN based on distance of cases\n",
    "X = preprocessing.StandardScaler().fit(X).transform(X.astype(float))\n",
    "X[0:5]"
   ]
  },
  {
   "cell_type": "code",
   "execution_count": 50,
   "metadata": {},
   "outputs": [
    {
     "name": "stdout",
     "output_type": "stream",
     "text": [
      "Train set: (800, 11) (800,)\n",
      "Test set: (200, 11) (200,)\n"
     ]
    }
   ],
   "source": [
    "from sklearn.model_selection import train_test_split\n",
    "#So i suppose the below command does the splitting automatically, as we have done manually before\n",
    "#it takes in the dataset X being inpedent variables, y being depednet. Test size. 0.2 indicates 20% testing. random_state idk\n",
    "X_train, X_test, y_train, y_test = train_test_split(X, y, test_size = 0.2, random_state = 4)\n",
    "print('Train set:', X_train.shape, y_train.shape)\n",
    "print('Test set:', X_test.shape, y_test.shape)\n",
    "#shape is array dimensions"
   ]
  },
  {
   "cell_type": "code",
   "execution_count": 52,
   "metadata": {},
   "outputs": [
    {
     "data": {
      "text/plain": [
       "KNeighborsClassifier(algorithm='auto', leaf_size=30, metric='minkowski',\n",
       "                     metric_params=None, n_jobs=None, n_neighbors=4, p=2,\n",
       "                     weights='uniform')"
      ]
     },
     "execution_count": 52,
     "metadata": {},
     "output_type": "execute_result"
    }
   ],
   "source": [
    "from sklearn.neighbors import KNeighborsClassifier\n",
    "k = 4\n",
    "neigh = KNeighborsClassifier(n_neighbors = k).fit(X_train, y_train)\n",
    "neigh"
   ]
  },
  {
   "cell_type": "code",
   "execution_count": 56,
   "metadata": {},
   "outputs": [
    {
     "data": {
      "text/plain": [
       "array([1, 1, 3, 2, 4], dtype=int64)"
      ]
     },
     "execution_count": 56,
     "metadata": {},
     "output_type": "execute_result"
    }
   ],
   "source": [
    "#Predicting\n",
    "yhat = neigh.predict(X_test)\n",
    "yhat[0:5]"
   ]
  },
  {
   "cell_type": "code",
   "execution_count": 60,
   "metadata": {},
   "outputs": [
    {
     "name": "stdout",
     "output_type": "stream",
     "text": [
      "Train set accuracy:  0.5475\n",
      "Test set accuracy:  0.32\n"
     ]
    }
   ],
   "source": [
    "#Accuracy\n",
    "from sklearn import metrics\n",
    "print(\"Train set accuracy: \", metrics.accuracy_score(y_train, neigh.predict(X_train)))\n",
    "print(\"Test set accuracy: \", metrics.accuracy_score(y_test, yhat))"
   ]
  },
  {
   "cell_type": "code",
   "execution_count": 69,
   "metadata": {},
   "outputs": [
    {
     "name": "stdout",
     "output_type": "stream",
     "text": [
      "Train set accuracy:  0.51625\n",
      "Test set accuracy:  0.31\n"
     ]
    }
   ],
   "source": [
    "#With k =6\n",
    "from sklearn.neighbors import KNeighborsClassifier\n",
    "from sklearn import metrics\n",
    "\n",
    "k = 6\n",
    "#print(dir(KNeighborsClassifier))#just a python thing. shows attributes of a class\n",
    "neigh = KNeighborsClassifier(n_neighbors = k).fit(X_train, y_train)#training on train data we split before\n",
    "neigh\n",
    "yhat = neigh.predict(X_test)#now we can predict stuff with it so cool\n",
    "print(\"Train set accuracy: \", metrics.accuracy_score(y_train, neigh.predict(X_train)))\n",
    "print(\"Test set accuracy: \", metrics.accuracy_score(y_test,yhat))\n",
    "#wow it's even worse"
   ]
  },
  {
   "cell_type": "code",
   "execution_count": 73,
   "metadata": {},
   "outputs": [
    {
     "data": {
      "text/plain": [
       "array([0.3  , 0.29 , 0.315, 0.32 , 0.315, 0.31 , 0.335, 0.325, 0.34 ])"
      ]
     },
     "execution_count": 73,
     "metadata": {},
     "output_type": "execute_result"
    }
   ],
   "source": [
    "#Finding the best K\n",
    "Ks = 10\n",
    "mean_acc = np.zeros((Ks-1))#just a fancy zero array. ugh *eye roll*\n",
    "std_acc = np.zeros((Ks-1))\n",
    "ConsfustionMx = [];\n",
    "for n in range(1,Ks):\n",
    "    neigh = KNeighborsClassifier(n_neighbors = n).fit(X_train, y_train)\n",
    "    yhat = neigh.predict(X_test)\n",
    "    mean_acc[n-1] = metrics.accuracy_score(y_test, yhat)\n",
    "    std_acc[n-1] = np.std(yhat == y_test)/np.sqrt(yhat.shape[0])\n",
    "    \n",
    "mean_acc"
   ]
  },
  {
   "cell_type": "code",
   "execution_count": 80,
   "metadata": {},
   "outputs": [
    {
     "data": {
      "image/png": "[encoded data removed]",
      "text/plain": [
       "<Figure size 432x288 with 1 Axes>"
      ]
     },
     "metadata": {
      "needs_background": "light"
     },
     "output_type": "display_data"
    }
   ],
   "source": [
    "plt.plot(range(1,Ks), mean_acc, 'g')\n",
    "plt.fill_between(range(1,Ks),mean_acc -1*std_acc,mean_acc+1*std_acc, alpha = .10)\n",
    "plt.legend(('Accuracy ', '+/- 3xstd'))\n",
    "plt.ylabel('Accuracy ')\n",
    "plt.xlabel('Number of Nabors (K)')\n",
    "plt.tight_layout()\n",
    "plt.show()"
   ]
  },
  {
   "cell_type": "code",
   "execution_count": 86,
   "metadata": {},
   "outputs": [
    {
     "name": "stdout",
     "output_type": "stream",
     "text": [
      "The best accuracy was with 0.34 with k = 9\n"
     ]
    }
   ],
   "source": [
    "print(\"The best accuracy was with\", mean_acc.max(), \"with k =\", mean_acc.argmax()+1)"
   ]
  },
  {
   "cell_type": "code",
   "execution_count": null,
   "metadata": {},
   "outputs": [],
   "source": []
  }
 ],
 "metadata": {
  "kernelspec": {
   "display_name": "Python 3",
   "language": "python",
   "name": "python3"
  },
  "language_info": {
   "codemirror_mode": {
    "name": "ipython",
    "version": 3
   },
   "file_extension": ".py",
   "mimetype": "text/x-python",
   "name": "python",
   "nbconvert_exporter": "python",
   "pygments_lexer": "ipython3",
   "version": "3.7.3"
  }
 },
 "nbformat": 4,
 "nbformat_minor": 2
}
