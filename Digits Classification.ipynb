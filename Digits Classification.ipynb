{
 "cells": [
  {
   "cell_type": "markdown",
   "metadata": {},
   "source": [
    "## Digit Classification. KNN vs LinearRegression"
   ]
  },
  {
   "cell_type": "code",
   "execution_count": 56,
   "metadata": {},
   "outputs": [],
   "source": [
    "import numpy as np\n",
    "import pandas as pd\n",
    "from sklearn import datasets, neighbors, linear_model\n",
    "from sklearn.model_selection import train_test_split\n",
    "from sklearn.metrics import accuracy_score\n",
    "\n",
    "knn = neighbors.KNeighborsClassifier()\n",
    "X_digits, y_digits = datasets.load_digits(return_X_y=True)\n",
    "X_digits = X_digits / X_digits.max()#normalization?"
   ]
  },
  {
   "cell_type": "code",
   "execution_count": 17,
   "metadata": {},
   "outputs": [
    {
     "data": {
      "text/plain": [
       "(1797, 64)"
      ]
     },
     "execution_count": 17,
     "metadata": {},
     "output_type": "execute_result"
    }
   ],
   "source": [
    "X_digits.shape"
   ]
  },
  {
   "cell_type": "code",
   "execution_count": 19,
   "metadata": {},
   "outputs": [
    {
     "data": {
      "text/plain": [
       "(64,)"
      ]
     },
     "execution_count": 19,
     "metadata": {},
     "output_type": "execute_result"
    }
   ],
   "source": [
    "X_digits[0].shape#so 8x8 image?"
   ]
  },
  {
   "cell_type": "code",
   "execution_count": 18,
   "metadata": {},
   "outputs": [
    {
     "data": {
      "text/plain": [
       "(1797,)"
      ]
     },
     "execution_count": 18,
     "metadata": {},
     "output_type": "execute_result"
    }
   ],
   "source": [
    "y_digits.shape"
   ]
  },
  {
   "cell_type": "code",
   "execution_count": 58,
   "metadata": {},
   "outputs": [],
   "source": [
    "X_train, X_test, y_train, y_test = train_test_split(X_digits,y_digits, test_size = 0.1)"
   ]
  },
  {
   "cell_type": "code",
   "execution_count": 59,
   "metadata": {},
   "outputs": [
    {
     "data": {
      "text/plain": [
       "KNeighborsClassifier(algorithm='auto', leaf_size=30, metric='minkowski',\n",
       "                     metric_params=None, n_jobs=None, n_neighbors=5, p=2,\n",
       "                     weights='uniform')"
      ]
     },
     "execution_count": 59,
     "metadata": {},
     "output_type": "execute_result"
    }
   ],
   "source": [
    "knn.fit(X_train, y_train)"
   ]
  },
  {
   "cell_type": "code",
   "execution_count": 72,
   "metadata": {},
   "outputs": [
    {
     "name": "stdout",
     "output_type": "stream",
     "text": [
      "0.9888888888888889\n",
      "0.9888888888888889\n"
     ]
    }
   ],
   "source": [
    "yhat = knn.predict(X_test)\n",
    "print(accuracy_score(yhat, y_test))\n",
    "print(knn.score(X_test, y_test))"
   ]
  },
  {
   "cell_type": "code",
   "execution_count": 71,
   "metadata": {},
   "outputs": [
    {
     "data": {
      "text/plain": [
       "array([8, 3, 9, 5, 6, 7, 3, 3, 9, 3, 8, 1, 2, 5, 4, 8, 0, 2, 7, 4, 3, 4,\n",
       "       2, 3, 9, 9, 2, 3, 9, 0, 1, 5, 9, 4, 1, 9, 2, 4, 4, 5, 2, 3, 7, 8,\n",
       "       4, 5, 0, 3, 7, 7, 1, 8, 7, 5, 6, 5, 1, 8, 0, 0, 3, 4, 0, 8, 9, 6,\n",
       "       5, 4, 2, 0, 5, 8, 2, 0, 8, 6, 1, 3, 7, 5, 6, 4, 9, 7, 1, 8, 8, 1,\n",
       "       9, 7, 5, 3, 1, 4, 8, 3, 4, 6, 5, 3, 1, 0, 0, 6, 5, 1, 7, 3, 2, 9,\n",
       "       7, 3, 5, 0, 0, 8, 8, 9, 7, 7, 3, 3, 8, 2, 4, 2, 2, 3, 0, 7, 3, 4,\n",
       "       0, 4, 9, 4, 4, 5, 7, 5, 7, 9, 2, 4, 4, 0, 2, 1, 5, 4, 3, 7, 7, 9,\n",
       "       0, 5, 7, 3, 2, 3, 6, 3, 9, 4, 8, 7, 5, 9, 8, 6, 0, 5, 4, 5, 0, 2,\n",
       "       5, 9, 7, 6])"
      ]
     },
     "execution_count": 71,
     "metadata": {},
     "output_type": "execute_result"
    }
   ],
   "source": [
    "yhat"
   ]
  },
  {
   "cell_type": "code",
   "execution_count": 63,
   "metadata": {},
   "outputs": [],
   "source": [
    "regr = linear_model.LinearRegression()"
   ]
  },
  {
   "cell_type": "code",
   "execution_count": 64,
   "metadata": {},
   "outputs": [
    {
     "data": {
      "text/plain": [
       "LinearRegression(copy_X=True, fit_intercept=True, n_jobs=None, normalize=False)"
      ]
     },
     "execution_count": 64,
     "metadata": {},
     "output_type": "execute_result"
    }
   ],
   "source": [
    "regr.fit(X_train, y_train)"
   ]
  },
  {
   "cell_type": "code",
   "execution_count": 66,
   "metadata": {},
   "outputs": [
    {
     "name": "stdout",
     "output_type": "stream",
     "text": [
      "[-1.22303017e-14  1.24678469e+00 -4.89817476e-01 -3.28259027e-01\n",
      "  1.05550298e+00 -2.33556338e-01 -5.10763787e-01 -2.84698610e-01\n",
      "  1.68033388e+01 -4.64747788e-01  1.42932593e+00  8.15830969e-01\n",
      " -9.88084011e-01 -1.05588688e+00  1.37011206e+00  4.38349618e+00\n",
      " -1.28750765e+01  3.71733350e-01  1.43200180e+00 -5.86362743e-01\n",
      " -1.06596502e+00  7.97514380e-01 -9.09364613e-01 -5.74672098e+00\n",
      " -1.56054796e+01 -2.49351521e+00  5.36610572e-01  1.41016967e+00\n",
      "  1.16589304e+00  1.36387620e+00 -3.11741456e-01 -3.86902689e+01\n",
      "  1.15463195e-13 -2.66407241e+00 -2.32449933e-01  2.05099012e+00\n",
      " -7.25219890e-01  7.53730321e-01 -2.21121557e-01 -8.61533067e-14\n",
      "  1.62282299e+00  1.72414368e+00 -1.86121210e-01 -1.15620822e-01\n",
      "  1.84823682e+00  7.95448625e-01 -2.30854511e-02  1.67394719e+00\n",
      "  9.10412417e+00  6.57726671e-01 -1.16807487e-01 -1.31408336e+00\n",
      " -3.23358086e+00 -6.34649427e-01  1.83254042e+00 -2.42378881e+00\n",
      " -2.36807000e+01 -1.88046162e+00  4.94578686e-01 -9.06224309e-01\n",
      " -1.74513685e-01 -1.26951508e+00 -8.80990750e-02 -8.54611433e-01]\n"
     ]
    }
   ],
   "source": [
    "print(regr.coef_)"
   ]
  },
  {
   "cell_type": "code",
   "execution_count": 67,
   "metadata": {},
   "outputs": [],
   "source": [
    "regrYhat = regr.predict(X_test)"
   ]
  },
  {
   "cell_type": "code",
   "execution_count": 69,
   "metadata": {},
   "outputs": [
    {
     "data": {
      "text/plain": [
       "0.6275944038439474"
      ]
     },
     "execution_count": 69,
     "metadata": {},
     "output_type": "execute_result"
    }
   ],
   "source": [
    "regr.score(X_test, y_test)"
   ]
  },
  {
   "cell_type": "code",
   "execution_count": 70,
   "metadata": {},
   "outputs": [
    {
     "name": "stdout",
     "output_type": "stream",
     "text": [
      "[ 5.46766431  3.39051428  4.292433    6.04246308  7.85364004  7.55838038\n",
      "  4.81062907  1.5953546   6.82677203  5.66793856  6.31199714  0.21475859\n",
      "  1.73440237  4.75675794  4.97666798  6.19448965  2.07723745  0.94712834\n",
      "  4.76203143  3.78576231  3.22312509  4.12984015  1.90080039  5.39741823\n",
      "  5.04798575  7.6752865   0.78542965  4.38273453  7.22865618  1.89420828\n",
      "  3.76058144  4.38131446  5.06781324  2.97802405  2.66199729  6.25718216\n",
      "  3.62616779  5.09805516  2.41841193  1.80340727  2.44832694  5.55532816\n",
      "  6.50457931  8.59918921  4.5239256   4.69448631  0.54921877  4.53132131\n",
      "  5.91699054  7.43749482  1.41573517  8.2017627   6.7102922   4.9656196\n",
      "  4.51859058  5.19939562  1.8533061   7.81370607  2.17214078  3.6534551\n",
      "  5.42200583  5.59728242  3.21480338  5.04287819  7.13147936  5.84946895\n",
      "  6.53800999  2.75228056  1.16013915  2.25079888  5.84908126  7.97667125\n",
      "  2.53668924  2.06762959  2.84591522  3.82466242  3.93553976  3.91978813\n",
      "  6.44329804  6.96423656  3.22584428  1.79244575  7.60929292  7.21099846\n",
      "  4.40293192 10.17127831  6.84405353  1.83965094  7.0921489   7.09383953\n",
      "  6.14345028  5.38774276  5.15145552  0.62011835  7.95975993  6.11341736\n",
      "  7.0005024   5.09339925  4.13131342  4.69850073  1.814916    0.80748245\n",
      "  1.7205593   4.36317843  5.97634988  4.43534787  6.14038677  3.44850584\n",
      "  1.494658    8.11999722  6.69564159  4.36549789  6.2616808   2.11440165\n",
      "  0.81533287  6.66954426  7.13648168  6.82721492  6.96686796  6.52059601\n",
      "  4.87110659  4.9489743   6.08506051  3.04197215  3.02986092  1.92375116\n",
      "  0.39125372  1.61826201  0.90537974  5.94726871  4.85700116  5.3446151\n",
      "  1.7201979   5.42379372  9.13069222  4.28418012  4.82112496  4.31776331\n",
      "  5.65871326  5.3662814   5.771923    6.53171388  2.02263714  3.83199711\n",
      "  5.57396049  3.5917343  -0.77800438  3.48754303  3.86459706  3.1840152\n",
      "  4.5518992   7.22522592  7.0128955   6.82372743  2.33912532  5.68375482\n",
      "  6.16930338  5.72904732  2.21735433  5.86514723  4.22897082  0.6092209\n",
      "  8.72210084  2.26429213  7.08519517  6.52358964  3.77757115  7.56509919\n",
      "  7.79993481  3.95369622  0.35382434  5.38002992  3.83094684  4.62481628\n",
      "  0.41513271  3.2706028   4.7552042   8.76078133  6.51547382  4.43691432]\n"
     ]
    }
   ],
   "source": [
    "print(regrYhat)"
   ]
  },
  {
   "cell_type": "code",
   "execution_count": null,
   "metadata": {},
   "outputs": [],
   "source": []
  }
 ],
 "metadata": {
  "kernelspec": {
   "display_name": "Python 3",
   "language": "python",
   "name": "python3"
  },
  "language_info": {
   "codemirror_mode": {
    "name": "ipython",
    "version": 3
   },
   "file_extension": ".py",
   "mimetype": "text/x-python",
   "name": "python",
   "nbconvert_exporter": "python",
   "pygments_lexer": "ipython3",
   "version": "3.7.3"
  }
 },
 "nbformat": 4,
 "nbformat_minor": 2
}
